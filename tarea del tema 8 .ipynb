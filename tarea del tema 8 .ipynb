{
  "nbformat": 4,
  "nbformat_minor": 0,
  "metadata": {
    "colab": {
      "name": "Te damos la bienvenida a Colaboratory",
      "provenance": [],
      "collapsed_sections": [],
      "toc_visible": true,
      "include_colab_link": true
    },
    "kernelspec": {
      "display_name": "Python 3",
      "name": "python3"
    }
  },
  "cells": [
    {
      "cell_type": "markdown",
      "metadata": {
        "id": "view-in-github",
        "colab_type": "text"
      },
      "source": [
        "<a href=\"https://colab.research.google.com/github/PabinAGUILAR/repositorio-Tarea-1/blob/main/tarea%20del%20tema%208%20.ipynb\" target=\"_parent\"><img src=\"https://colab.research.google.com/assets/colab-badge.svg\" alt=\"Open In Colab\"/></a>"
      ]
    },
    {
      "cell_type": "code",
      "metadata": {
        "id": "aLgmu9ZAeoh_",
        "outputId": "60c8986c-3fc0-4e41-b644-2a9574b5896b",
        "colab": {
          "base_uri": "https://localhost:8080/"
        }
      },
      "source": [
        "\r\n",
        "A= [[6,5,3],[4,2,8],[9,7,8]]\r\n",
        "X = A\r\n",
        "print(A)\r\n",
        "\r\n",
        "for i in range(3):\r\n",
        "  for o in range(3):\r\n",
        "    X[i][o] = 4*A[i][o]\r\n",
        "\r\n",
        "\r\n",
        "print(X)"
      ],
      "execution_count": 11,
      "outputs": [
        {
          "output_type": "stream",
          "text": [
            "[[6, 5, 3], [4, 2, 8], [9, 7, 8]]\n",
            "[[24, 20, 12], [16, 8, 32], [36, 28, 32]]\n"
          ],
          "name": "stdout"
        }
      ]
    }
  ]
}