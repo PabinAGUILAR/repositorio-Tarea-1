{
  "nbformat": 4,
  "nbformat_minor": 0,
  "metadata": {
    "colab": {
      "name": "Te damos la bienvenida a Colaboratory",
      "provenance": [],
      "collapsed_sections": [],
      "toc_visible": true,
      "include_colab_link": true
    },
    "kernelspec": {
      "display_name": "Python 3",
      "name": "python3"
    }
  },
  "cells": [
    {
      "cell_type": "markdown",
      "metadata": {
        "id": "view-in-github",
        "colab_type": "text"
      },
      "source": [
        "<a href=\"https://colab.research.google.com/github/PabinAGUILAR/repositorio-Tarea-1/blob/main/tarea%20clase%205.ipynb\" target=\"_parent\"><img src=\"https://colab.research.google.com/assets/colab-badge.svg\" alt=\"Open In Colab\"/></a>"
      ]
    },
    {
      "cell_type": "code",
      "metadata": {
        "colab": {
          "base_uri": "https://localhost:8080/"
        },
        "id": "5NIrYMYpzVq2",
        "outputId": "2ddc53a8-bff4-434e-8f9a-d9846091d946"
      },
      "source": [
        "Carne_doble_triple = True\r\n",
        "Salsa_de_coral = False \r\n",
        "Decorado_de_lujo = False \r\n",
        "Estilo_animal = False  \r\n",
        "Guijarros_extra = False \r\n",
        "Vibración_exprimida = False \r\n",
        "Eje_con_grasa_ligera = False \r\n",
        "Hazlo_llorar = False \r\n",
        "Quemado = False \r\n",
        "Nadando = False \r\n",
        "Pepinillos = False \r\n",
        "\r\n",
        "\r\n",
        "if (Carne_doble_triple or  \r\n",
        "Salsa_de_coral and\r\n",
        "Decorado_de_lujo and\r\n",
        "Estilo_animal and \r\n",
        "Guijarros_extra and\r\n",
        "Vibración_exprimida and\r\n",
        "Eje_con_grasa_ligera and \r\n",
        "Hazlo_llorar and\r\n",
        "Quemado and\r\n",
        "Nadando and\r\n",
        "Pepinillos ):\r\n",
        "  print(\"Quiere la kangreburguer\")\r\n",
        "else:\r\n",
        "  print(\"No quiere la kangrebuger\")"
      ],
      "execution_count": 16,
      "outputs": [
        {
          "output_type": "stream",
          "text": [
            "Quiere la kangreburguer\n"
          ],
          "name": "stdout"
        }
      ]
    },
    {
      "cell_type": "code",
      "metadata": {
        "id": "dXHemr4p0qMM"
      },
      "source": [
        ""
      ],
      "execution_count": null,
      "outputs": []
    }
  ]
}