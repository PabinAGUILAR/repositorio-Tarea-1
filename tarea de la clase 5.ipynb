{
  "nbformat": 4,
  "nbformat_minor": 0,
  "metadata": {
    "colab": {
      "name": "Te damos la bienvenida a Colaboratory",
      "provenance": [],
      "collapsed_sections": [],
      "toc_visible": true,
      "include_colab_link": true
    },
    "kernelspec": {
      "display_name": "Python 3",
      "name": "python3"
    }
  },
  "cells": [
    {
      "cell_type": "markdown",
      "metadata": {
        "id": "view-in-github",
        "colab_type": "text"
      },
      "source": [
        "<a href=\"https://colab.research.google.com/github/PabinAGUILAR/repositorio-Tarea-1/blob/main/tarea%20de%20la%20clase%205.ipynb\" target=\"_parent\"><img src=\"https://colab.research.google.com/assets/colab-badge.svg\" alt=\"Open In Colab\"/></a>"
      ]
    },
    {
      "cell_type": "code",
      "metadata": {
        "colab": {
          "base_uri": "https://localhost:8080/"
        },
        "id": "CXIRsBWRmz-N",
        "outputId": "c0be226e-011e-4dcf-f892-3bf76a526215"
      },
      "source": [
        "#diccionario \r\n",
        "Basededatos =           [{\"marca\":\"BMW\",\r\n",
        "                         \"placas\" \"B-001\"\r\n",
        "                         \"modelo\": \"x6\",\r\n",
        "                         \"año\": 2021},\r\n",
        "                        {\"marca\": \"BMW\",\r\n",
        "                        \"placas\": \"A-100\",\r\n",
        "                         \"modelo\":\"m3\",\r\n",
        "                         \"año\": 2021}]\r\n",
        "#datos secundarios al diccionario \r\n",
        "Basededatos[0].update({\"color\": \"verde oscuro\" \"Transmicion Automatica\"});\r\n",
        "Basededatos[1].update({\"Color\":\"Negro\",\"Transmision\":\"Automatico\"});\r\n",
        " \r\n",
        "#nuevos de datos dek vehiculo  \r\n",
        "print(\"Introduce el número de placas\");\r\n",
        "placas = input();\r\n",
        "print(\"Introduce el modelo del vehiculo\");\r\n",
        "modelo = input();\r\n",
        "print(\"Introduce el año del vehiculo\");\r\n",
        "año = input();\r\n",
        "print(\"Introduce el color del vehiculo\");\r\n",
        "color = input();\r\n",
        "print(\"Introduce el tipo de transmision del vehiculo\");\r\n",
        "transmision = input();\r\n",
        "print(\"Inroduce la marca\");\r\n",
        "marca = input()\r\n",
        "\r\n",
        "#nuevos datos por agregar \r\n",
        "Basededatos.append({\"Marca\":marca,\r\n",
        "                    \"Placas\":placas,\r\n",
        "                    \"Modelo\":modelo,\r\n",
        "                    \"año\":año,\r\n",
        "                    \"Color\":color,\r\n",
        "                    \"Transmision\":transmision});\r\n",
        "#datos de los vehiculos \r\n",
        "print(Basededatos[0]);\r\n",
        "print(Basededatos[1]);\r\n",
        "print(Basededatos[2]);1"
      ],
      "execution_count": 66,
      "outputs": [
        {
          "output_type": "stream",
          "text": [
            "Introduce el número de placas\n",
            "p-8943\n",
            "Introduce el modelo del vehiculo\n",
            "Q3\n",
            "Introduce el año del vehiculo\n",
            "2021\n",
            "Introduce el color del vehiculo\n",
            "Anaranjado \n",
            "Introduce el tipo de transmision del vehiculo\n",
            "Automatico \n",
            "Inroduce la marca\n",
            "Audi\n",
            "{'marca': 'BMW', 'placasB-001modelo': 'x6', 'año': 2021, 'color': 'verde oscuroTransmicion Automatica'}\n",
            "{'marca': 'BMW', 'placas': 'A-100', 'modelo': 'm3', 'año': 2021, 'Color': 'Negro', 'Transmision': 'Automatico'}\n",
            "{'Marca': 'Audi', 'Placas': 'p-8943', 'Modelo': 'Q3', 'año': '2021', 'Color': 'Anaranjado ', 'Transmision': 'Automatico '}\n"
          ],
          "name": "stdout"
        },
        {
          "output_type": "execute_result",
          "data": {
            "text/plain": [
              "1"
            ]
          },
          "metadata": {
            "tags": []
          },
          "execution_count": 66
        }
      ]
    }
  ]
}